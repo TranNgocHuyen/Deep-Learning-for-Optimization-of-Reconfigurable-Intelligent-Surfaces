{
 "cells": [
  {
   "cell_type": "code",
   "execution_count": null,
   "metadata": {},
   "outputs": [],
   "source": [
    "import torch\n",
    "\n",
    "# Load the file\n",
    "pt_file = torch.load(\"/home/tranngochuyen/Do_an/risnet/data/channel_tx_ris_s.pt\")\n",
    "\n",
    "# Print the head of the file\n",
    "print(pt_file[:5])\n",
    "print(pt_file.size()) #torch.Size([1024, 9]) (NxM)"
   ]
  },
  {
   "cell_type": "code",
   "execution_count": 3,
   "metadata": {},
   "outputs": [
    {
     "name": "stdout",
     "output_type": "stream",
     "text": [
      "tensor([[[ 3.5294e-08+9.9062e-09j, -2.3928e-08+9.9693e-09j,\n",
      "           1.7038e-08-4.9571e-09j, -8.2932e-08-4.4955e-08j,\n",
      "          -4.1846e-08+4.5050e-08j,  1.2815e-07-1.3486e-08j,\n",
      "           1.0226e-07-1.0940e-07j, -2.1988e-07-1.8505e-07j,\n",
      "          -3.1085e-09-1.5807e-08j]],\n",
      "\n",
      "        [[ 1.4818e-08+2.5961e-08j, -2.9481e-08+3.5952e-08j,\n",
      "           7.1007e-08-2.0649e-07j,  9.4786e-09+6.1380e-08j,\n",
      "          -8.7666e-09-2.8058e-08j,  8.2294e-08-5.0863e-08j,\n",
      "          -1.3212e-07+3.1096e-08j,  6.2589e-08-3.7131e-08j,\n",
      "          -8.0601e-08-2.1878e-08j]],\n",
      "\n",
      "        [[ 1.2754e-07+4.2003e-08j,  2.5717e-08+1.5270e-08j,\n",
      "          -6.3918e-08-6.4063e-08j,  1.2311e-10+3.4488e-10j,\n",
      "           8.9235e-08-1.5185e-07j, -1.4636e-07+3.2294e-08j,\n",
      "           9.4160e-08+2.3347e-07j, -3.5356e-08-5.8352e-09j,\n",
      "          -1.6160e-08+4.6563e-08j]],\n",
      "\n",
      "        [[-1.6883e-08-5.4076e-08j,  1.1482e-09-4.0891e-08j,\n",
      "          -1.0510e-08+5.6125e-08j,  1.2168e-07+1.2594e-07j,\n",
      "          -8.1435e-08-1.6346e-07j,  2.1665e-08-7.6561e-09j,\n",
      "           2.2823e-08+1.8835e-08j,  9.7214e-08-4.2893e-08j,\n",
      "          -3.5114e-08+3.3620e-08j]],\n",
      "\n",
      "        [[ 1.4904e-08+3.8145e-08j, -3.3952e-08+2.7820e-09j,\n",
      "          -5.3768e-08+1.6912e-07j,  1.2865e-08-3.1692e-08j,\n",
      "          -2.7261e-08+1.0999e-08j, -1.0067e-07-4.9074e-08j,\n",
      "           1.6391e-07+1.4276e-07j, -5.0167e-08-4.1474e-08j,\n",
      "          -1.5107e-07-3.6737e-08j]]])\n",
      "torch.Size([10240, 1, 9])\n"
     ]
    }
   ],
   "source": [
    "import torch\n",
    "\n",
    "# Load the file\n",
    "pt_file = torch.load(\"/home/tranngochuyen/Do_an/risnet/data/channels_direct_training_s.pt\")\n",
    "\n",
    "# Print the head of the file\n",
    "print(pt_file[:5])\n",
    "print(pt_file.size())#torch.Size([10240, 1, 9]) ()\n"
   ]
  },
  {
   "cell_type": "code",
   "execution_count": 4,
   "metadata": {},
   "outputs": [
    {
     "name": "stdout",
     "output_type": "stream",
     "text": [
      "tensor([[[-2.0781e-05+7.0854e-06j, -1.6805e-03-7.7780e-04j,\n",
      "          -2.2437e-04-9.7244e-04j,  ...,\n",
      "           1.5140e-04-7.2488e-05j,  1.6058e-03-8.8917e-04j,\n",
      "          -2.6263e-04-1.4742e-03j]],\n",
      "\n",
      "        [[ 5.8306e-04-6.6943e-05j,  6.4148e-04+5.5170e-04j,\n",
      "           4.7786e-04-2.3474e-03j,  ...,\n",
      "           3.1638e-04-7.6302e-04j,  5.0244e-04+3.5544e-04j,\n",
      "          -2.9102e-04+1.2038e-05j]],\n",
      "\n",
      "        [[ 2.2535e-05-1.0416e-04j, -1.4266e-03-3.9557e-04j,\n",
      "           1.1795e-03+7.9562e-05j,  ...,\n",
      "          -9.6333e-04-6.4679e-05j, -1.0451e-06-1.0511e-04j,\n",
      "           2.1542e-04-8.6219e-05j]],\n",
      "\n",
      "        [[-1.6712e-04-1.1786e-04j,  2.3383e-04-4.8294e-04j,\n",
      "           3.0973e-04-5.8506e-05j,  ...,\n",
      "           1.1107e-03-4.2402e-04j, -9.7611e-05-4.9934e-05j,\n",
      "           2.3657e-05-9.5357e-05j]],\n",
      "\n",
      "        [[-1.5120e-05-2.1704e-05j, -2.0922e-04+2.3906e-04j,\n",
      "           2.3814e-04+7.7047e-04j,  ...,\n",
      "           1.5739e-03+1.0243e-03j,  2.0012e-03+2.2675e-04j,\n",
      "          -5.7388e-04+3.2066e-05j]]])\n",
      "torch.Size([10240, 1, 1024])\n"
     ]
    }
   ],
   "source": [
    "import torch\n",
    "\n",
    "# Load the file\n",
    "pt_file = torch.load(\"/home/tranngochuyen/Do_an/risnet/data/channels_ris_rx_training_s.pt\")\n",
    "\n",
    "# Print the head of the file\n",
    "print(pt_file[:5])\n",
    "print(pt_file.size())#ttorch.Size([10240, 1, 1024]) ()\n"
   ]
  },
  {
   "cell_type": "code",
   "execution_count": 6,
   "metadata": {},
   "outputs": [
    {
     "name": "stdout",
     "output_type": "stream",
     "text": [
      "tensor([[249.4230, 566.5710,   2.0000],\n",
      "        [254.6230, 488.5710,   2.0000],\n",
      "        [254.2230, 411.7710,   2.0000],\n",
      "        [276.2230, 346.3710,   2.0000],\n",
      "        [253.4230, 461.7710,   2.0000]], dtype=torch.float64)\n",
      "torch.Size([16000, 3])\n"
     ]
    }
   ],
   "source": [
    "import torch\n",
    "\n",
    "# Load the file\n",
    "pt_file = torch.load(\"/home/tranngochuyen/Do_an/risnet/data/locations_training.pt\")\n",
    "\n",
    "# Print the head of the file\n",
    "print(pt_file[:5])\n",
    "print(pt_file.size())#torch.Size([16000, 3]) ()"
   ]
  },
  {
   "cell_type": "code",
   "execution_count": 9,
   "metadata": {},
   "outputs": [
    {
     "name": "stdout",
     "output_type": "stream",
     "text": [
      "(5120, 4)\n"
     ]
    },
    {
     "data": {
      "text/plain": [
       "array([[ 9234,  7668,  2663,  6199],\n",
       "       [ 4312,  7971,   295,  9062],\n",
       "       [ 2950,   937,  8788,  6130],\n",
       "       [ 1768,  9834,  2218,  8648],\n",
       "       [10041,  3966,  8056,  3031]], dtype=int32)"
      ]
     },
     "execution_count": 9,
     "metadata": {},
     "output_type": "execute_result"
    }
   ],
   "source": [
    "import numpy as np\n",
    "\n",
    "npy_file=np.load(\"/home/tranngochuyen/Do_an/risnet/data/group_definition_4users_training_s.npy\")\n",
    "print(npy_file.shape) #(5120, 4)\n",
    "npy_file[:5]"
   ]
  }
 ],
 "metadata": {
  "kernelspec": {
   "display_name": "Risnet",
   "language": "python",
   "name": "python3"
  },
  "language_info": {
   "codemirror_mode": {
    "name": "ipython",
    "version": 3
   },
   "file_extension": ".py",
   "mimetype": "text/x-python",
   "name": "python",
   "nbconvert_exporter": "python",
   "pygments_lexer": "ipython3",
   "version": "3.9.12"
  }
 },
 "nbformat": 4,
 "nbformat_minor": 2
}
