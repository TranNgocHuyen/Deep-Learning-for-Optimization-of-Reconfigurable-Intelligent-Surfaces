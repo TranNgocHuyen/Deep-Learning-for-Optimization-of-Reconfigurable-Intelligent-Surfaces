{
 "cells": [
  {
   "cell_type": "code",
   "execution_count": 1,
   "metadata": {},
   "outputs": [
    {
     "name": "stdout",
     "output_type": "stream",
     "text": [
      "tensor([[-9.3010e-06-9.1070e-06j,  1.2247e-07+2.4995e-08j,\n",
      "         -1.6229e-06+7.9137e-07j,  4.8440e-07+1.4773e-07j,\n",
      "         -4.9407e-06-8.7735e-07j, -1.1575e-06-9.6964e-06j,\n",
      "          2.0015e-05+8.6268e-07j, -7.3370e-07-1.1618e-06j,\n",
      "         -1.6759e-05+7.3914e-07j],\n",
      "        [ 2.1217e-06-2.2471e-06j,  2.3833e-07+4.9094e-08j,\n",
      "         -1.6523e-05+4.0157e-06j, -1.9470e-06+3.6184e-06j,\n",
      "         -1.0879e-05-1.0820e-05j,  9.1760e-06+3.2122e-06j,\n",
      "          4.6956e-06+1.2170e-05j,  2.2516e-05-2.3441e-06j,\n",
      "         -1.7263e-06+1.0319e-05j],\n",
      "        [ 8.7536e-06+1.5484e-07j,  5.1487e-06+1.3837e-06j,\n",
      "         -3.8425e-06-1.4836e-07j, -1.5653e-06-1.0690e-05j,\n",
      "          2.2909e-06+6.2340e-06j,  3.4348e-06-9.9142e-06j,\n",
      "          3.5451e-06-5.3251e-06j,  8.0286e-06-6.6598e-07j,\n",
      "          6.9962e-06+5.2507e-06j],\n",
      "        [-8.3209e-06-5.1078e-06j, -1.7178e-06+6.6226e-06j,\n",
      "          4.2061e-06+4.8006e-06j,  6.1037e-07-7.9362e-06j,\n",
      "          1.0473e-06+8.5062e-08j, -3.8804e-06-1.0575e-05j,\n",
      "          1.7587e-08+6.6085e-08j, -1.0157e-05+2.1556e-06j,\n",
      "         -4.5224e-06-6.8243e-06j],\n",
      "        [ 2.2920e-07+2.4608e-06j, -7.3610e-07-8.6817e-06j,\n",
      "         -1.8172e-06+1.3789e-05j,  1.5158e-06+6.2981e-06j,\n",
      "          4.9644e-06-9.9817e-06j,  5.5226e-06-6.6700e-06j,\n",
      "          5.0448e-07+2.9766e-06j, -6.7560e-06-4.1089e-06j,\n",
      "          8.5022e-06-1.5480e-05j]])\n",
      "<class 'torch.Tensor'>\n"
     ]
    }
   ],
   "source": [
    "import torch\n",
    "\n",
    "# Load the file\n",
    "pt_file = torch.load(\"/home/tranngochuyen/Do_an/risnet/data/channel_tx_ris_s.pt\")\n",
    "\n",
    "# Print the head of the file\n",
    "print(pt_file[:5])\n",
    "print(type(pt_file)) #torch.Size([1024, 9]) (NxM)"
   ]
  },
  {
   "cell_type": "code",
   "execution_count": 2,
   "metadata": {},
   "outputs": [
    {
     "name": "stdout",
     "output_type": "stream",
     "text": [
      "<class 'list'>\n"
     ]
    }
   ],
   "source": [
    "y=[0.1,0.2,0.3,0.4,0.5]\n",
    "print(type(y))"
   ]
  },
  {
   "cell_type": "code",
   "execution_count": 3,
   "metadata": {},
   "outputs": [
    {
     "name": "stdout",
     "output_type": "stream",
     "text": [
      "tensor([[[ 3.5294e-08+9.9062e-09j, -2.3928e-08+9.9693e-09j,\n",
      "           1.7038e-08-4.9571e-09j, -8.2932e-08-4.4955e-08j,\n",
      "          -4.1846e-08+4.5050e-08j,  1.2815e-07-1.3486e-08j,\n",
      "           1.0226e-07-1.0940e-07j, -2.1988e-07-1.8505e-07j,\n",
      "          -3.1085e-09-1.5807e-08j]],\n",
      "\n",
      "        [[ 1.4818e-08+2.5961e-08j, -2.9481e-08+3.5952e-08j,\n",
      "           7.1007e-08-2.0649e-07j,  9.4786e-09+6.1380e-08j,\n",
      "          -8.7666e-09-2.8058e-08j,  8.2294e-08-5.0863e-08j,\n",
      "          -1.3212e-07+3.1096e-08j,  6.2589e-08-3.7131e-08j,\n",
      "          -8.0601e-08-2.1878e-08j]],\n",
      "\n",
      "        [[ 1.2754e-07+4.2003e-08j,  2.5717e-08+1.5270e-08j,\n",
      "          -6.3918e-08-6.4063e-08j,  1.2311e-10+3.4488e-10j,\n",
      "           8.9235e-08-1.5185e-07j, -1.4636e-07+3.2294e-08j,\n",
      "           9.4160e-08+2.3347e-07j, -3.5356e-08-5.8352e-09j,\n",
      "          -1.6160e-08+4.6563e-08j]],\n",
      "\n",
      "        [[-1.6883e-08-5.4076e-08j,  1.1482e-09-4.0891e-08j,\n",
      "          -1.0510e-08+5.6125e-08j,  1.2168e-07+1.2594e-07j,\n",
      "          -8.1435e-08-1.6346e-07j,  2.1665e-08-7.6561e-09j,\n",
      "           2.2823e-08+1.8835e-08j,  9.7214e-08-4.2893e-08j,\n",
      "          -3.5114e-08+3.3620e-08j]],\n",
      "\n",
      "        [[ 1.4904e-08+3.8145e-08j, -3.3952e-08+2.7820e-09j,\n",
      "          -5.3768e-08+1.6912e-07j,  1.2865e-08-3.1692e-08j,\n",
      "          -2.7261e-08+1.0999e-08j, -1.0067e-07-4.9074e-08j,\n",
      "           1.6391e-07+1.4276e-07j, -5.0167e-08-4.1474e-08j,\n",
      "          -1.5107e-07-3.6737e-08j]]])\n",
      "torch.Size([10240, 1, 9])\n"
     ]
    }
   ],
   "source": [
    "import torch\n",
    "\n",
    "# Load the file\n",
    "pt_file = torch.load(\"/home/tranngochuyen/Do_an/risnet/data/channels_direct_training_s.pt\")\n",
    "\n",
    "# Print the head of the file\n",
    "print(pt_file[:5])\n",
    "print(pt_file.size())#torch.Size([10240, 1, 9]) ()\n"
   ]
  },
  {
   "cell_type": "code",
   "execution_count": 4,
   "metadata": {},
   "outputs": [
    {
     "name": "stdout",
     "output_type": "stream",
     "text": [
      "tensor([[[-2.0781e-05+7.0854e-06j, -1.6805e-03-7.7780e-04j,\n",
      "          -2.2437e-04-9.7244e-04j,  ...,\n",
      "           1.5140e-04-7.2488e-05j,  1.6058e-03-8.8917e-04j,\n",
      "          -2.6263e-04-1.4742e-03j]],\n",
      "\n",
      "        [[ 5.8306e-04-6.6943e-05j,  6.4148e-04+5.5170e-04j,\n",
      "           4.7786e-04-2.3474e-03j,  ...,\n",
      "           3.1638e-04-7.6302e-04j,  5.0244e-04+3.5544e-04j,\n",
      "          -2.9102e-04+1.2038e-05j]],\n",
      "\n",
      "        [[ 2.2535e-05-1.0416e-04j, -1.4266e-03-3.9557e-04j,\n",
      "           1.1795e-03+7.9562e-05j,  ...,\n",
      "          -9.6333e-04-6.4679e-05j, -1.0451e-06-1.0511e-04j,\n",
      "           2.1542e-04-8.6219e-05j]],\n",
      "\n",
      "        [[-1.6712e-04-1.1786e-04j,  2.3383e-04-4.8294e-04j,\n",
      "           3.0973e-04-5.8506e-05j,  ...,\n",
      "           1.1107e-03-4.2402e-04j, -9.7611e-05-4.9934e-05j,\n",
      "           2.3657e-05-9.5357e-05j]],\n",
      "\n",
      "        [[-1.5120e-05-2.1704e-05j, -2.0922e-04+2.3906e-04j,\n",
      "           2.3814e-04+7.7047e-04j,  ...,\n",
      "           1.5739e-03+1.0243e-03j,  2.0012e-03+2.2675e-04j,\n",
      "          -5.7388e-04+3.2066e-05j]]])\n",
      "torch.Size([10240, 1, 1024])\n"
     ]
    }
   ],
   "source": [
    "import torch\n",
    "\n",
    "# Load the file\n",
    "channels_ris_rx = torch.load(\"/home/tranngochuyen/Do_an/risnet/data/channels_ris_rx_training_s.pt\")\n",
    "\n",
    "user_indices=npy_file[0]\n",
    "\n",
    "# Print the head of the file\n",
    "print(channels_ris_rx[user_indices, :, :])\n",
    "print(pt_file.size())#ttorch.Size([10240, 1, 1024]) ()\n"
   ]
  },
  {
   "cell_type": "code",
   "execution_count": 6,
   "metadata": {},
   "outputs": [
    {
     "name": "stdout",
     "output_type": "stream",
     "text": [
      "tensor([[249.4230, 566.5710,   2.0000],\n",
      "        [254.6230, 488.5710,   2.0000],\n",
      "        [254.2230, 411.7710,   2.0000],\n",
      "        [276.2230, 346.3710,   2.0000],\n",
      "        [253.4230, 461.7710,   2.0000]], dtype=torch.float64)\n",
      "torch.Size([16000, 3])\n"
     ]
    }
   ],
   "source": [
    "import torch\n",
    "\n",
    "# Load the file\n",
    "pt_file = torch.load(\"/home/tranngochuyen/Do_an/risnet/data/locations_training.pt\")\n",
    "\n",
    "# Print the head of the file\n",
    "print(pt_file[:5])\n",
    "print(pt_file.size())#torch.Size([16000, 3]) ()"
   ]
  },
  {
   "cell_type": "code",
   "execution_count": 4,
   "metadata": {},
   "outputs": [
    {
     "name": "stdout",
     "output_type": "stream",
     "text": [
      "(1024, 4)\n"
     ]
    },
    {
     "data": {
      "text/plain": [
       "array([[ 878,  803,  441,  780],\n",
       "       [ 304,  345,  344,  655],\n",
       "       [ 560,  544,   49,  190],\n",
       "       [ 522,  156, 1011,  982],\n",
       "       [ 847,  213,  135,  292]], dtype=int32)"
      ]
     },
     "execution_count": 4,
     "metadata": {},
     "output_type": "execute_result"
    }
   ],
   "source": [
    "import numpy as np\n",
    "\n",
    "npy_file=np.load(\"/home/tranngochuyen/Do_an/risnet/data/group_definition_4users_testing_s.npy\")\n",
    "print(npy_file.shape) #(5120, 4)\n",
    "npy_file[:5]"
   ]
  },
  {
   "cell_type": "code",
   "execution_count": 4,
   "metadata": {},
   "outputs": [
    {
     "name": "stdout",
     "output_type": "stream",
     "text": [
      "tensor([[[-7.4554e-04-2.7978e-03j,  1.7081e-04-6.0078e-05j,\n",
      "           8.7799e-04+1.3288e-03j,  ...,\n",
      "           1.3153e-04-6.1723e-05j,  3.4423e-04+6.8742e-05j,\n",
      "          -1.2711e-05+1.3471e-03j]],\n",
      "\n",
      "        [[-3.4498e-04+1.5746e-03j,  1.6960e-03-6.5745e-04j,\n",
      "           7.2554e-05-2.8121e-04j,  ...,\n",
      "          -1.0437e-04+2.5844e-04j, -3.2552e-04+1.5332e-03j,\n",
      "           1.8581e-04-1.1023e-04j]],\n",
      "\n",
      "        [[-7.7157e-05-5.7375e-05j,  5.7146e-04+2.4116e-04j,\n",
      "           1.6482e-03-9.0494e-05j,  ...,\n",
      "          -3.7949e-04-5.8201e-04j, -9.2899e-04-4.9234e-04j,\n",
      "          -8.9308e-04-2.0660e-06j]],\n",
      "\n",
      "        [[-7.7991e-04-1.2934e-03j,  1.6228e-03-1.5333e-03j,\n",
      "           5.2698e-05+9.0409e-04j,  ...,\n",
      "           2.5531e-05-2.0063e-05j,  2.3527e-04-4.6509e-04j,\n",
      "          -6.0798e-04+4.9219e-04j]]])\n"
     ]
    }
   ],
   "source": [
    "import torch\n",
    "\n",
    "# Load the file\n",
    "channels_ris_rx = torch.load(\"/home/tranngochuyen/Do_an/risnet/data/channels_ris_rx_training_s.pt\")\n",
    "\n",
    "user_indices=npy_file[0]\n",
    "\n",
    "# Print the head of the file\n",
    "print(channels_ris_rx[user_indices, :, :])"
   ]
  }
 ],
 "metadata": {
  "kernelspec": {
   "display_name": "Risnet",
   "language": "python",
   "name": "python3"
  },
  "language_info": {
   "codemirror_mode": {
    "name": "ipython",
    "version": 3
   },
   "file_extension": ".py",
   "mimetype": "text/x-python",
   "name": "python",
   "nbconvert_exporter": "python",
   "pygments_lexer": "ipython3",
   "version": "3.9.12"
  }
 },
 "nbformat": 4,
 "nbformat_minor": 2
}
